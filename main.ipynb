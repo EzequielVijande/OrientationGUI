{
 "cells": [
  {
   "cell_type": "markdown",
   "metadata": {},
   "source": [
    "# Dataset generation"
   ]
  },
  {
   "cell_type": "code",
   "execution_count": 1,
   "metadata": {},
   "outputs": [],
   "source": [
    "# import os\n",
    "# from utils import copy_and_rename, anonymize_niftii\n",
    "# import random\n",
    "# import nibabel as nib\n",
    "\n",
    "# ac_dir = \".//Recons AC//\"\n",
    "# nac_dir = \".//Recons Ricky//\"\n",
    "# exclude_files = ['47872_52776_Involution_3i_10s_AC_SC_PSF_real.nii']\n",
    "# file_list = []\n",
    "# for file in os.listdir(ac_dir):\n",
    "#     if file.endswith('.nii'):\n",
    "#         if file not in exclude_files:\n",
    "#             file_list.append(ac_dir+file)\n",
    "# for file in os.listdir(nac_dir):\n",
    "#     if file.endswith('.nii'):\n",
    "#         file_list.append(nac_dir+file)\n",
    "# random.shuffle(file_list)\n",
    "# with open(\"map_file.txt\", 'w') as f:\n",
    "#     for i, x in enumerate(file_list):\n",
    "#         f.writelines(f'{i}, {x}\\n')\n",
    "#         if x.startswith(ac_dir):\n",
    "#             og_name = x[len(ac_dir):]\n",
    "#         else:\n",
    "#             og_name = x[len(nac_dir):]\n",
    "#         copy_and_rename(x, \".//dset\", og_name, f\"{i}_0000.nii\")\n",
    "#         nifti_obj = nib.load(f\"./dset//{i}_0000.nii\")\n",
    "#         new_header = anonymize_niftii(nifti_obj)\n",
    "#         # Save the anonymized file\n",
    "#         anonymized_nifti = nib.Nifti1Image(nifti_obj.get_fdata(), nifti_obj.affine, new_header)\n",
    "#         nib.save(anonymized_nifti, f\".//dset//{i}_0000.nii\")\n"
   ]
  },
  {
   "cell_type": "markdown",
   "metadata": {},
   "source": [
    "# Gui code"
   ]
  },
  {
   "cell_type": "code",
   "execution_count": 2,
   "metadata": {},
   "outputs": [],
   "source": [
    "from model import Model\n",
    "from Viewer import Viewer\n",
    "from Controller import Controller\n",
    "import tkinter as tk\n",
    "import numpy as np\n",
    "\n",
    "dir_name = \".//Results//\"\n",
    "\n",
    "HEIGHT= 800\n",
    "WIDTH= 800\n",
    "root = tk.Tk()\n",
    "root.geometry(str(WIDTH)+\"x\"+str(HEIGHT)+\"+50+50\")  # width x height + x + y\n",
    "root.grid_rowconfigure(0, weight=1)\n",
    "root.grid_columnconfigure(0, weight=1)\n",
    "root.update()\n",
    "#Viewer. Model and controller\n",
    "viewer = Viewer(root)\n",
    "viewer.grid(row=0,column=0)\n",
    "model = Model()\n",
    "controller = Controller(model, viewer)\n",
    "viewer.set_controller(controller)\n",
    "viewer.create_widgets()\n",
    "controller.set_dir(dir_name)\n",
    "\n",
    "root.mainloop()\n",
    "\n"
   ]
  }
 ],
 "metadata": {
  "kernelspec": {
   "display_name": "reo_gui",
   "language": "python",
   "name": "python3"
  },
  "language_info": {
   "codemirror_mode": {
    "name": "ipython",
    "version": 3
   },
   "file_extension": ".py",
   "mimetype": "text/x-python",
   "name": "python",
   "nbconvert_exporter": "python",
   "pygments_lexer": "ipython3",
   "version": "3.12.5"
  }
 },
 "nbformat": 4,
 "nbformat_minor": 2
}
