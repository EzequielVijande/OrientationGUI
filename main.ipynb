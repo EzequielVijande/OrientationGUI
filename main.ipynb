{
 "cells": [
  {
   "cell_type": "markdown",
   "metadata": {},
   "source": [
    "# Gui code"
   ]
  },
  {
   "cell_type": "code",
   "execution_count": 10,
   "metadata": {},
   "outputs": [],
   "source": [
    "import tkinter as tk\n",
    "\n",
    "def login_screen():\n",
    "    root=tk.Tk()\n",
    "\n",
    "    # setting the windows size\n",
    "    root.geometry(\"600x400\")\n",
    "    name_var=tk.StringVar()\n",
    "    \n",
    "    # defining a function that will\n",
    "    # get the name and password and \n",
    "    # print them on the screen\n",
    "    def submit():\n",
    "        name=name_var.get()\n",
    "        root.destroy()\n",
    "        \n",
    "    # creating a label for \n",
    "    # name using widget Label\n",
    "    name_label = tk.Label(root, text = 'Username', font=('calibre',10, 'bold'))\n",
    "    \n",
    "    # creating a entry for input\n",
    "    # name using widget Entry\n",
    "    name_entry = tk.Entry(root,textvariable = name_var, font=('calibre',10,'normal'))\n",
    "    \n",
    "    # creating a button using the widget \n",
    "    # Button that will call the submit function \n",
    "    sub_btn=tk.Button(root,text = 'Submit', command = submit)\n",
    "    \n",
    "    # placing the label and entry in\n",
    "    # the required position using grid\n",
    "    # method\n",
    "    name_label.grid(row=0,column=0)\n",
    "    name_entry.grid(row=0,column=1)\n",
    "    sub_btn.grid(row=1,column=1)\n",
    "    \n",
    "    # performing an infinite loop \n",
    "    # for the window to display\n",
    "    root.mainloop()\n",
    "    return name_var.get()"
   ]
  },
  {
   "cell_type": "code",
   "execution_count": 11,
   "metadata": {},
   "outputs": [
    {
     "name": "stdout",
     "output_type": "stream",
     "text": [
      "The name is : user\n"
     ]
    }
   ],
   "source": [
    "from model import Model\n",
    "from Viewer import Viewer\n",
    "from Controller import Controller\n",
    "import tkinter as tk\n",
    "\n",
    "user_name = login_screen()\n",
    "dir_name = \".//Results//\"\n",
    "N_SLICES = 128\n",
    "HEIGHT= 800\n",
    "WIDTH= 1000\n",
    "root = tk.Tk()\n",
    "root.geometry(str(WIDTH)+\"x\"+str(HEIGHT)+\"+50+50\")  # width x height + x + y\n",
    "root.grid_rowconfigure(0, weight=1)\n",
    "root.grid_columnconfigure(0, weight=1)\n",
    "root.update()\n",
    "#Viewer. Model and controller\n",
    "viewer = Viewer(root)\n",
    "viewer.grid(row=0,column=0)\n",
    "model = Model()\n",
    "controller = Controller(user_name, model, viewer, dir_name)\n",
    "viewer.set_controller(controller)\n",
    "viewer.create_widgets(N_SLICES)\n",
    "controller.set_dir(dir_name)\n",
    "\n",
    "root.mainloop()\n",
    "\n"
   ]
  }
 ],
 "metadata": {
  "kernelspec": {
   "display_name": "reo_gui",
   "language": "python",
   "name": "python3"
  },
  "language_info": {
   "codemirror_mode": {
    "name": "ipython",
    "version": 3
   },
   "file_extension": ".py",
   "mimetype": "text/x-python",
   "name": "python",
   "nbconvert_exporter": "python",
   "pygments_lexer": "ipython3",
   "version": "3.12.5"
  }
 },
 "nbformat": 4,
 "nbformat_minor": 2
}
